{
 "cells": [
  {
   "cell_type": "code",
   "execution_count": 1,
   "metadata": {},
   "outputs": [],
   "source": [
    "import os , sys\n",
    "sys.path.append(os.path.abspath('../scripts'))"
   ]
  },
  {
   "cell_type": "code",
   "execution_count": 2,
   "metadata": {},
   "outputs": [],
   "source": [
    "import cleaning_the_opening_time_format as ctotf\n"
   ]
  },
  {
   "cell_type": "code",
   "execution_count": 3,
   "metadata": {},
   "outputs": [
    {
     "name": "stderr",
     "output_type": "stream",
     "text": [
      "INFO:cleaning_the_opening_time_format:Loading the data\n"
     ]
    }
   ],
   "source": [
    "path= '../data/merged_data.csv'\n",
    "df = ctotf.load_data(path)"
   ]
  },
  {
   "cell_type": "code",
   "execution_count": 4,
   "metadata": {},
   "outputs": [
    {
     "data": {
      "text/html": [
       "<div>\n",
       "<style scoped>\n",
       "    .dataframe tbody tr th:only-of-type {\n",
       "        vertical-align: middle;\n",
       "    }\n",
       "\n",
       "    .dataframe tbody tr th {\n",
       "        vertical-align: top;\n",
       "    }\n",
       "\n",
       "    .dataframe thead th {\n",
       "        text-align: right;\n",
       "    }\n",
       "</style>\n",
       "<table border=\"1\" class=\"dataframe\">\n",
       "  <thead>\n",
       "    <tr style=\"text-align: right;\">\n",
       "      <th></th>\n",
       "      <th>Name</th>\n",
       "      <th>Type of Activity</th>\n",
       "      <th>Description</th>\n",
       "      <th>Location</th>\n",
       "      <th>OpeningTimes</th>\n",
       "    </tr>\n",
       "  </thead>\n",
       "  <tbody>\n",
       "    <tr>\n",
       "      <th>0</th>\n",
       "      <td>Al Azhar Park</td>\n",
       "      <td>Outdoor Activity</td>\n",
       "      <td>A large park with beautiful gardens and recrea...</td>\n",
       "      <td>Cairo</td>\n",
       "      <td>N/A</td>\n",
       "    </tr>\n",
       "    <tr>\n",
       "      <th>1</th>\n",
       "      <td>Aquarium Grotto Park</td>\n",
       "      <td>Outdoor Activity</td>\n",
       "      <td>A park featuring an aquarium and scenic views.</td>\n",
       "      <td>Zamalek, Cairo</td>\n",
       "      <td>N/A</td>\n",
       "    </tr>\n",
       "    <tr>\n",
       "      <th>2</th>\n",
       "      <td>Family Park</td>\n",
       "      <td>Outdoor Activity</td>\n",
       "      <td>A family-friendly park with various activities.</td>\n",
       "      <td>New Cairo</td>\n",
       "      <td>N/A</td>\n",
       "    </tr>\n",
       "    <tr>\n",
       "      <th>3</th>\n",
       "      <td>Nile Cruise (Felucca)</td>\n",
       "      <td>Outdoor Activity</td>\n",
       "      <td>Sail the Nile River at sunset.</td>\n",
       "      <td>Maadi, Zamalek</td>\n",
       "      <td>N/A</td>\n",
       "    </tr>\n",
       "    <tr>\n",
       "      <th>4</th>\n",
       "      <td>Zawya</td>\n",
       "      <td>Movie Screenings &amp; Art Performances</td>\n",
       "      <td>Art-house cinema screening alternative films a...</td>\n",
       "      <td>15 Emad El-Deen, Downtown</td>\n",
       "      <td>Check weekly schedule</td>\n",
       "    </tr>\n",
       "  </tbody>\n",
       "</table>\n",
       "</div>"
      ],
      "text/plain": [
       "                    Name                     Type of Activity  \\\n",
       "0          Al Azhar Park                     Outdoor Activity   \n",
       "1   Aquarium Grotto Park                     Outdoor Activity   \n",
       "2            Family Park                     Outdoor Activity   \n",
       "3  Nile Cruise (Felucca)                     Outdoor Activity   \n",
       "4                  Zawya  Movie Screenings & Art Performances   \n",
       "\n",
       "                                         Description  \\\n",
       "0  A large park with beautiful gardens and recrea...   \n",
       "1     A park featuring an aquarium and scenic views.   \n",
       "2    A family-friendly park with various activities.   \n",
       "3                     Sail the Nile River at sunset.   \n",
       "4  Art-house cinema screening alternative films a...   \n",
       "\n",
       "                    Location             OpeningTimes  \n",
       "0                      Cairo                    N/A    \n",
       "1             Zamalek, Cairo                    N/A    \n",
       "2                  New Cairo                    N/A    \n",
       "3             Maadi, Zamalek                    N/A    \n",
       "4  15 Emad El-Deen, Downtown  Check weekly schedule    "
      ]
     },
     "execution_count": 4,
     "metadata": {},
     "output_type": "execute_result"
    }
   ],
   "source": [
    "df.head()"
   ]
  },
  {
   "cell_type": "markdown",
   "metadata": {},
   "source": [
    "### Extracting features like opening and Closing time"
   ]
  },
  {
   "cell_type": "code",
   "execution_count": 5,
   "metadata": {},
   "outputs": [
    {
     "name": "stderr",
     "output_type": "stream",
     "text": [
      "INFO:cleaning_the_opening_time_format:Processing the OpeningTimes column\n",
      "INFO:cleaning_the_opening_time_format:Processing the OpeningTimes column\n",
      "INFO:cleaning_the_opening_time_format:Processing the OpeningTimes column\n",
      "INFO:cleaning_the_opening_time_format:Processing the OpeningTimes column\n",
      "INFO:cleaning_the_opening_time_format:Processing the OpeningTimes column\n",
      "INFO:cleaning_the_opening_time_format:Processing the OpeningTimes column\n",
      "INFO:cleaning_the_opening_time_format:Processing the OpeningTimes column\n",
      "INFO:cleaning_the_opening_time_format:Processing the OpeningTimes column\n",
      "INFO:cleaning_the_opening_time_format:Processing the OpeningTimes column\n",
      "INFO:cleaning_the_opening_time_format:Processing the OpeningTimes column\n",
      "INFO:cleaning_the_opening_time_format:Processing the OpeningTimes column\n",
      "INFO:cleaning_the_opening_time_format:Processing the OpeningTimes column\n",
      "INFO:cleaning_the_opening_time_format:Processing the OpeningTimes column\n",
      "INFO:cleaning_the_opening_time_format:Processing the OpeningTimes column\n",
      "INFO:cleaning_the_opening_time_format:Processing the OpeningTimes column\n",
      "INFO:cleaning_the_opening_time_format:Processing the OpeningTimes column\n",
      "INFO:cleaning_the_opening_time_format:Processing the OpeningTimes column\n",
      "INFO:cleaning_the_opening_time_format:Processing the OpeningTimes column\n",
      "INFO:cleaning_the_opening_time_format:Processing the OpeningTimes column\n",
      "INFO:cleaning_the_opening_time_format:Processing the OpeningTimes column\n",
      "INFO:cleaning_the_opening_time_format:Processing the OpeningTimes column\n",
      "INFO:cleaning_the_opening_time_format:Processing the OpeningTimes column\n",
      "INFO:cleaning_the_opening_time_format:Processing the OpeningTimes column\n",
      "INFO:cleaning_the_opening_time_format:Processing the OpeningTimes column\n",
      "INFO:cleaning_the_opening_time_format:Processing the OpeningTimes column\n",
      "INFO:cleaning_the_opening_time_format:Processing the OpeningTimes column\n",
      "INFO:cleaning_the_opening_time_format:Processing the OpeningTimes column\n",
      "INFO:cleaning_the_opening_time_format:Processing the OpeningTimes column\n",
      "INFO:cleaning_the_opening_time_format:Processing the OpeningTimes column\n",
      "INFO:cleaning_the_opening_time_format:Processing the OpeningTimes column\n",
      "INFO:cleaning_the_opening_time_format:Processing the OpeningTimes column\n",
      "INFO:cleaning_the_opening_time_format:Processing the OpeningTimes column\n",
      "INFO:cleaning_the_opening_time_format:Processing the OpeningTimes column\n",
      "INFO:cleaning_the_opening_time_format:Processing the OpeningTimes column\n",
      "INFO:cleaning_the_opening_time_format:Processing the OpeningTimes column\n",
      "INFO:cleaning_the_opening_time_format:Processing the OpeningTimes column\n",
      "INFO:cleaning_the_opening_time_format:Processing the OpeningTimes column\n",
      "INFO:cleaning_the_opening_time_format:Processing the OpeningTimes column\n",
      "INFO:cleaning_the_opening_time_format:Processing the OpeningTimes column\n",
      "INFO:cleaning_the_opening_time_format:Processing the OpeningTimes column\n",
      "INFO:cleaning_the_opening_time_format:Processing the OpeningTimes column\n",
      "INFO:cleaning_the_opening_time_format:Processing the OpeningTimes column\n",
      "INFO:cleaning_the_opening_time_format:Processing the OpeningTimes column\n",
      "INFO:cleaning_the_opening_time_format:Processing the OpeningTimes column\n",
      "INFO:cleaning_the_opening_time_format:Processing the OpeningTimes column\n",
      "INFO:cleaning_the_opening_time_format:Processing the OpeningTimes column\n",
      "INFO:cleaning_the_opening_time_format:Processing the OpeningTimes column\n",
      "INFO:cleaning_the_opening_time_format:Processing the OpeningTimes column\n",
      "INFO:cleaning_the_opening_time_format:Processing the OpeningTimes column\n",
      "INFO:cleaning_the_opening_time_format:Processing the OpeningTimes column\n",
      "INFO:cleaning_the_opening_time_format:Processing the OpeningTimes column\n",
      "INFO:cleaning_the_opening_time_format:Processing the OpeningTimes column\n",
      "INFO:cleaning_the_opening_time_format:Processing the OpeningTimes column\n",
      "INFO:cleaning_the_opening_time_format:Processing the OpeningTimes column\n",
      "INFO:cleaning_the_opening_time_format:Processing the OpeningTimes column\n",
      "INFO:cleaning_the_opening_time_format:Processing the OpeningTimes column\n",
      "INFO:cleaning_the_opening_time_format:Processing the OpeningTimes column\n",
      "INFO:cleaning_the_opening_time_format:Processing the OpeningTimes column\n",
      "INFO:cleaning_the_opening_time_format:Processing the OpeningTimes column\n",
      "INFO:cleaning_the_opening_time_format:Processing the OpeningTimes column\n",
      "INFO:cleaning_the_opening_time_format:Processing the OpeningTimes column\n",
      "INFO:cleaning_the_opening_time_format:Processing the OpeningTimes column\n",
      "INFO:cleaning_the_opening_time_format:Processing the OpeningTimes column\n",
      "INFO:cleaning_the_opening_time_format:Processing the OpeningTimes column\n",
      "INFO:cleaning_the_opening_time_format:Processing the OpeningTimes column\n"
     ]
    }
   ],
   "source": [
    "df[['OpeningTime', 'ClosingTime']] = df.apply(ctotf.process_opening_times, axis=1)"
   ]
  },
  {
   "cell_type": "markdown",
   "metadata": {},
   "source": [
    "### Extracing a new feature which is called Duration"
   ]
  },
  {
   "cell_type": "code",
   "execution_count": 6,
   "metadata": {},
   "outputs": [
    {
     "name": "stderr",
     "output_type": "stream",
     "text": [
      "INFO:cleaning_the_opening_time_format:Creating a new feature: Duration (in hours)\n",
      "INFO:cleaning_the_opening_time_format:Creating a new feature: Duration (in hours)\n",
      "INFO:cleaning_the_opening_time_format:Creating a new feature: Duration (in hours)\n",
      "INFO:cleaning_the_opening_time_format:Creating a new feature: Duration (in hours)\n",
      "INFO:cleaning_the_opening_time_format:Creating a new feature: Duration (in hours)\n",
      "INFO:cleaning_the_opening_time_format:Creating a new feature: Duration (in hours)\n",
      "INFO:cleaning_the_opening_time_format:Creating a new feature: Duration (in hours)\n",
      "ERROR:cleaning_the_opening_time_format:Error occurred while calculating duration: strptime() argument 1 must be str, not None\n",
      "INFO:cleaning_the_opening_time_format:Creating a new feature: Duration (in hours)\n",
      "INFO:cleaning_the_opening_time_format:Creating a new feature: Duration (in hours)\n",
      "INFO:cleaning_the_opening_time_format:Creating a new feature: Duration (in hours)\n",
      "INFO:cleaning_the_opening_time_format:Creating a new feature: Duration (in hours)\n",
      "INFO:cleaning_the_opening_time_format:Creating a new feature: Duration (in hours)\n",
      "INFO:cleaning_the_opening_time_format:Creating a new feature: Duration (in hours)\n",
      "ERROR:cleaning_the_opening_time_format:Error occurred while calculating duration: strptime() argument 1 must be str, not None\n",
      "INFO:cleaning_the_opening_time_format:Creating a new feature: Duration (in hours)\n",
      "INFO:cleaning_the_opening_time_format:Creating a new feature: Duration (in hours)\n",
      "INFO:cleaning_the_opening_time_format:Creating a new feature: Duration (in hours)\n",
      "INFO:cleaning_the_opening_time_format:Creating a new feature: Duration (in hours)\n",
      "INFO:cleaning_the_opening_time_format:Creating a new feature: Duration (in hours)\n",
      "INFO:cleaning_the_opening_time_format:Creating a new feature: Duration (in hours)\n",
      "INFO:cleaning_the_opening_time_format:Creating a new feature: Duration (in hours)\n",
      "INFO:cleaning_the_opening_time_format:Creating a new feature: Duration (in hours)\n",
      "INFO:cleaning_the_opening_time_format:Creating a new feature: Duration (in hours)\n",
      "INFO:cleaning_the_opening_time_format:Creating a new feature: Duration (in hours)\n",
      "INFO:cleaning_the_opening_time_format:Creating a new feature: Duration (in hours)\n",
      "INFO:cleaning_the_opening_time_format:Creating a new feature: Duration (in hours)\n",
      "INFO:cleaning_the_opening_time_format:Creating a new feature: Duration (in hours)\n",
      "INFO:cleaning_the_opening_time_format:Creating a new feature: Duration (in hours)\n",
      "INFO:cleaning_the_opening_time_format:Creating a new feature: Duration (in hours)\n",
      "INFO:cleaning_the_opening_time_format:Creating a new feature: Duration (in hours)\n",
      "INFO:cleaning_the_opening_time_format:Creating a new feature: Duration (in hours)\n",
      "INFO:cleaning_the_opening_time_format:Creating a new feature: Duration (in hours)\n",
      "INFO:cleaning_the_opening_time_format:Creating a new feature: Duration (in hours)\n",
      "INFO:cleaning_the_opening_time_format:Creating a new feature: Duration (in hours)\n",
      "INFO:cleaning_the_opening_time_format:Creating a new feature: Duration (in hours)\n",
      "INFO:cleaning_the_opening_time_format:Creating a new feature: Duration (in hours)\n",
      "INFO:cleaning_the_opening_time_format:Creating a new feature: Duration (in hours)\n",
      "INFO:cleaning_the_opening_time_format:Creating a new feature: Duration (in hours)\n",
      "INFO:cleaning_the_opening_time_format:Creating a new feature: Duration (in hours)\n",
      "INFO:cleaning_the_opening_time_format:Creating a new feature: Duration (in hours)\n",
      "INFO:cleaning_the_opening_time_format:Creating a new feature: Duration (in hours)\n",
      "INFO:cleaning_the_opening_time_format:Creating a new feature: Duration (in hours)\n",
      "INFO:cleaning_the_opening_time_format:Creating a new feature: Duration (in hours)\n",
      "INFO:cleaning_the_opening_time_format:Creating a new feature: Duration (in hours)\n",
      "INFO:cleaning_the_opening_time_format:Creating a new feature: Duration (in hours)\n",
      "ERROR:cleaning_the_opening_time_format:Error occurred while calculating duration: strptime() argument 1 must be str, not None\n",
      "INFO:cleaning_the_opening_time_format:Creating a new feature: Duration (in hours)\n",
      "INFO:cleaning_the_opening_time_format:Creating a new feature: Duration (in hours)\n",
      "INFO:cleaning_the_opening_time_format:Creating a new feature: Duration (in hours)\n",
      "INFO:cleaning_the_opening_time_format:Creating a new feature: Duration (in hours)\n",
      "INFO:cleaning_the_opening_time_format:Creating a new feature: Duration (in hours)\n",
      "ERROR:cleaning_the_opening_time_format:Error occurred while calculating duration: strptime() argument 1 must be str, not None\n",
      "INFO:cleaning_the_opening_time_format:Creating a new feature: Duration (in hours)\n",
      "INFO:cleaning_the_opening_time_format:Creating a new feature: Duration (in hours)\n",
      "INFO:cleaning_the_opening_time_format:Creating a new feature: Duration (in hours)\n",
      "INFO:cleaning_the_opening_time_format:Creating a new feature: Duration (in hours)\n",
      "INFO:cleaning_the_opening_time_format:Creating a new feature: Duration (in hours)\n",
      "INFO:cleaning_the_opening_time_format:Creating a new feature: Duration (in hours)\n",
      "INFO:cleaning_the_opening_time_format:Creating a new feature: Duration (in hours)\n",
      "INFO:cleaning_the_opening_time_format:Creating a new feature: Duration (in hours)\n",
      "ERROR:cleaning_the_opening_time_format:Error occurred while calculating duration: strptime() argument 1 must be str, not None\n",
      "INFO:cleaning_the_opening_time_format:Creating a new feature: Duration (in hours)\n",
      "INFO:cleaning_the_opening_time_format:Creating a new feature: Duration (in hours)\n",
      "INFO:cleaning_the_opening_time_format:Creating a new feature: Duration (in hours)\n",
      "INFO:cleaning_the_opening_time_format:Creating a new feature: Duration (in hours)\n",
      "ERROR:cleaning_the_opening_time_format:Error occurred while calculating duration: strptime() argument 1 must be str, not None\n",
      "INFO:cleaning_the_opening_time_format:Creating a new feature: Duration (in hours)\n",
      "INFO:cleaning_the_opening_time_format:Creating a new feature: Duration (in hours)\n",
      "INFO:cleaning_the_opening_time_format:Creating a new feature: Duration (in hours)\n",
      "INFO:cleaning_the_opening_time_format:Creating a new feature: Duration (in hours)\n"
     ]
    }
   ],
   "source": [
    "df['Duration'] = df.apply(ctotf.calculate_duration,axis=1)"
   ]
  },
  {
   "cell_type": "markdown",
   "metadata": {},
   "source": [
    "### Flaging entries with special schedules"
   ]
  },
  {
   "cell_type": "code",
   "execution_count": 7,
   "metadata": {},
   "outputs": [
    {
     "name": "stderr",
     "output_type": "stream",
     "text": [
      "INFO:cleaning_the_opening_time_format:Flagging entries with special schedules\n"
     ]
    }
   ],
   "source": [
    "df = ctotf.flag_entries_with_special_schedules(df)"
   ]
  },
  {
   "cell_type": "markdown",
   "metadata": {},
   "source": [
    "### final ceaning : Replace Nan or 'UnKnown' entries with None for Consistancy"
   ]
  },
  {
   "cell_type": "code",
   "execution_count": 8,
   "metadata": {},
   "outputs": [
    {
     "name": "stderr",
     "output_type": "stream",
     "text": [
      "INFO:cleaning_the_opening_time_format:Final cleaning: Replace NaN or 'Unknown' entries with None for consistency\n"
     ]
    }
   ],
   "source": [
    "df = ctotf.final_cleaning(df)"
   ]
  },
  {
   "cell_type": "code",
   "execution_count": 9,
   "metadata": {},
   "outputs": [
    {
     "data": {
      "text/html": [
       "<div>\n",
       "<style scoped>\n",
       "    .dataframe tbody tr th:only-of-type {\n",
       "        vertical-align: middle;\n",
       "    }\n",
       "\n",
       "    .dataframe tbody tr th {\n",
       "        vertical-align: top;\n",
       "    }\n",
       "\n",
       "    .dataframe thead th {\n",
       "        text-align: right;\n",
       "    }\n",
       "</style>\n",
       "<table border=\"1\" class=\"dataframe\">\n",
       "  <thead>\n",
       "    <tr style=\"text-align: right;\">\n",
       "      <th></th>\n",
       "      <th>Name</th>\n",
       "      <th>Type of Activity</th>\n",
       "      <th>Description</th>\n",
       "      <th>Location</th>\n",
       "      <th>OpeningTimes</th>\n",
       "      <th>OpeningTime</th>\n",
       "      <th>ClosingTime</th>\n",
       "      <th>Duration</th>\n",
       "      <th>Is_Special_Schedule</th>\n",
       "    </tr>\n",
       "  </thead>\n",
       "  <tbody>\n",
       "    <tr>\n",
       "      <th>0</th>\n",
       "      <td>Al Azhar Park</td>\n",
       "      <td>Outdoor Activity</td>\n",
       "      <td>A large park with beautiful gardens and recrea...</td>\n",
       "      <td>Cairo</td>\n",
       "      <td>N/A</td>\n",
       "      <td>None</td>\n",
       "      <td>None</td>\n",
       "      <td>NaN</td>\n",
       "      <td>False</td>\n",
       "    </tr>\n",
       "    <tr>\n",
       "      <th>1</th>\n",
       "      <td>Aquarium Grotto Park</td>\n",
       "      <td>Outdoor Activity</td>\n",
       "      <td>A park featuring an aquarium and scenic views.</td>\n",
       "      <td>Zamalek, Cairo</td>\n",
       "      <td>N/A</td>\n",
       "      <td>None</td>\n",
       "      <td>None</td>\n",
       "      <td>NaN</td>\n",
       "      <td>False</td>\n",
       "    </tr>\n",
       "    <tr>\n",
       "      <th>2</th>\n",
       "      <td>Family Park</td>\n",
       "      <td>Outdoor Activity</td>\n",
       "      <td>A family-friendly park with various activities.</td>\n",
       "      <td>New Cairo</td>\n",
       "      <td>N/A</td>\n",
       "      <td>None</td>\n",
       "      <td>None</td>\n",
       "      <td>NaN</td>\n",
       "      <td>False</td>\n",
       "    </tr>\n",
       "    <tr>\n",
       "      <th>3</th>\n",
       "      <td>Nile Cruise (Felucca)</td>\n",
       "      <td>Outdoor Activity</td>\n",
       "      <td>Sail the Nile River at sunset.</td>\n",
       "      <td>Maadi, Zamalek</td>\n",
       "      <td>N/A</td>\n",
       "      <td>None</td>\n",
       "      <td>None</td>\n",
       "      <td>NaN</td>\n",
       "      <td>False</td>\n",
       "    </tr>\n",
       "    <tr>\n",
       "      <th>4</th>\n",
       "      <td>Zawya</td>\n",
       "      <td>Movie Screenings &amp; Art Performances</td>\n",
       "      <td>Art-house cinema screening alternative films a...</td>\n",
       "      <td>15 Emad El-Deen, Downtown</td>\n",
       "      <td>Check weekly schedule</td>\n",
       "      <td>None</td>\n",
       "      <td>None</td>\n",
       "      <td>NaN</td>\n",
       "      <td>True</td>\n",
       "    </tr>\n",
       "    <tr>\n",
       "      <th>...</th>\n",
       "      <td>...</td>\n",
       "      <td>...</td>\n",
       "      <td>...</td>\n",
       "      <td>...</td>\n",
       "      <td>...</td>\n",
       "      <td>...</td>\n",
       "      <td>...</td>\n",
       "      <td>...</td>\n",
       "      <td>...</td>\n",
       "    </tr>\n",
       "    <tr>\n",
       "      <th>60</th>\n",
       "      <td>Climb the Cairo Tower</td>\n",
       "      <td>Outdoor Activity</td>\n",
       "      <td>Enjoy panoramic views of Cairo from the top of...</td>\n",
       "      <td>Cairo</td>\n",
       "      <td>8:00 AM - midnight</td>\n",
       "      <td>08:00</td>\n",
       "      <td>None</td>\n",
       "      <td>NaN</td>\n",
       "      <td>False</td>\n",
       "    </tr>\n",
       "    <tr>\n",
       "      <th>61</th>\n",
       "      <td>Spend a Sweet Afternoon at Sugar Spell</td>\n",
       "      <td>Indoor Activity</td>\n",
       "      <td>A candy shop with arts and crafts, games, and ...</td>\n",
       "      <td>Cairo</td>\n",
       "      <td>N/A</td>\n",
       "      <td>None</td>\n",
       "      <td>None</td>\n",
       "      <td>NaN</td>\n",
       "      <td>False</td>\n",
       "    </tr>\n",
       "    <tr>\n",
       "      <th>62</th>\n",
       "      <td>Experience the Calm in a Felucca</td>\n",
       "      <td>Outdoor Activity</td>\n",
       "      <td>Sail on the Nile River in a traditional boat.</td>\n",
       "      <td>Nile River, Cairo</td>\n",
       "      <td>N/A</td>\n",
       "      <td>None</td>\n",
       "      <td>None</td>\n",
       "      <td>NaN</td>\n",
       "      <td>False</td>\n",
       "    </tr>\n",
       "    <tr>\n",
       "      <th>63</th>\n",
       "      <td>Go for a Magical Adventure at Magic Galaxy</td>\n",
       "      <td>Indoor Activity</td>\n",
       "      <td>An indoor amusement center with rides and games.</td>\n",
       "      <td>City Stars Mall, Cairo</td>\n",
       "      <td>1:00 PM - 11:00 PM</td>\n",
       "      <td>13:00</td>\n",
       "      <td>23:00</td>\n",
       "      <td>10.0</td>\n",
       "      <td>False</td>\n",
       "    </tr>\n",
       "    <tr>\n",
       "      <th>64</th>\n",
       "      <td>Get a Weekend Treat at the Swiss Club Cairo</td>\n",
       "      <td>Outdoor Activity</td>\n",
       "      <td>A club with green spaces and playgrounds for f...</td>\n",
       "      <td>Villa Pax, Imbaba, Cairo</td>\n",
       "      <td>NaN</td>\n",
       "      <td>None</td>\n",
       "      <td>None</td>\n",
       "      <td>NaN</td>\n",
       "      <td>False</td>\n",
       "    </tr>\n",
       "  </tbody>\n",
       "</table>\n",
       "<p>65 rows × 9 columns</p>\n",
       "</div>"
      ],
      "text/plain": [
       "                                           Name  \\\n",
       "0                                 Al Azhar Park   \n",
       "1                          Aquarium Grotto Park   \n",
       "2                                   Family Park   \n",
       "3                         Nile Cruise (Felucca)   \n",
       "4                                         Zawya   \n",
       "..                                          ...   \n",
       "60                        Climb the Cairo Tower   \n",
       "61       Spend a Sweet Afternoon at Sugar Spell   \n",
       "62             Experience the Calm in a Felucca   \n",
       "63   Go for a Magical Adventure at Magic Galaxy   \n",
       "64  Get a Weekend Treat at the Swiss Club Cairo   \n",
       "\n",
       "                       Type of Activity  \\\n",
       "0                      Outdoor Activity   \n",
       "1                      Outdoor Activity   \n",
       "2                      Outdoor Activity   \n",
       "3                      Outdoor Activity   \n",
       "4   Movie Screenings & Art Performances   \n",
       "..                                  ...   \n",
       "60                     Outdoor Activity   \n",
       "61                      Indoor Activity   \n",
       "62                     Outdoor Activity   \n",
       "63                      Indoor Activity   \n",
       "64                     Outdoor Activity   \n",
       "\n",
       "                                          Description  \\\n",
       "0   A large park with beautiful gardens and recrea...   \n",
       "1      A park featuring an aquarium and scenic views.   \n",
       "2     A family-friendly park with various activities.   \n",
       "3                      Sail the Nile River at sunset.   \n",
       "4   Art-house cinema screening alternative films a...   \n",
       "..                                                ...   \n",
       "60  Enjoy panoramic views of Cairo from the top of...   \n",
       "61  A candy shop with arts and crafts, games, and ...   \n",
       "62      Sail on the Nile River in a traditional boat.   \n",
       "63   An indoor amusement center with rides and games.   \n",
       "64  A club with green spaces and playgrounds for f...   \n",
       "\n",
       "                     Location             OpeningTimes OpeningTime  \\\n",
       "0                       Cairo                    N/A          None   \n",
       "1              Zamalek, Cairo                    N/A          None   \n",
       "2                   New Cairo                    N/A          None   \n",
       "3              Maadi, Zamalek                    N/A          None   \n",
       "4   15 Emad El-Deen, Downtown  Check weekly schedule          None   \n",
       "..                        ...                      ...         ...   \n",
       "60                      Cairo     8:00 AM - midnight         08:00   \n",
       "61                      Cairo                    N/A          None   \n",
       "62          Nile River, Cairo                    N/A          None   \n",
       "63     City Stars Mall, Cairo     1:00 PM - 11:00 PM         13:00   \n",
       "64   Villa Pax, Imbaba, Cairo                      NaN        None   \n",
       "\n",
       "   ClosingTime  Duration  Is_Special_Schedule  \n",
       "0         None       NaN                False  \n",
       "1         None       NaN                False  \n",
       "2         None       NaN                False  \n",
       "3         None       NaN                False  \n",
       "4         None       NaN                 True  \n",
       "..         ...       ...                  ...  \n",
       "60        None       NaN                False  \n",
       "61        None       NaN                False  \n",
       "62        None       NaN                False  \n",
       "63       23:00      10.0                False  \n",
       "64        None       NaN                False  \n",
       "\n",
       "[65 rows x 9 columns]"
      ]
     },
     "execution_count": 9,
     "metadata": {},
     "output_type": "execute_result"
    }
   ],
   "source": [
    "df"
   ]
  },
  {
   "cell_type": "code",
   "execution_count": 10,
   "metadata": {},
   "outputs": [
    {
     "data": {
      "text/plain": [
       "OpeningTime\n",
       "10:00               10\n",
       "12:00                7\n",
       "11:00                6\n",
       "15:00                5\n",
       "13:00                3\n",
       "16:00                3\n",
       "14:30                1\n",
       "17:00                1\n",
       "11:30                1\n",
       "20:00                1\n",
       "Special Schedule     1\n",
       "08:00                1\n",
       "Name: count, dtype: int64"
      ]
     },
     "execution_count": 10,
     "metadata": {},
     "output_type": "execute_result"
    }
   ],
   "source": [
    "df['OpeningTime'].value_counts()"
   ]
  },
  {
   "cell_type": "code",
   "execution_count": 11,
   "metadata": {},
   "outputs": [],
   "source": [
    "import datetime as dt\n",
    "def convert_to_24hr(time_str):\n",
    "    try:\n",
    "        # Try to handle time with minutes, e.g. \"2:30 PM\"\n",
    "        return dt.datetime.strptime(time_str.strip(), \"%I:%M %p\").strftime(\"%H:%M\")\n",
    "    except ValueError:\n",
    "        try:\n",
    "            # Handle time without minutes, e.g. \"2 PM\"\n",
    "            return dt.datetime.strptime(time_str.strip(), \"%I %p\").strftime(\"%H:%M\")\n",
    "        except ValueError:\n",
    "            try:\n",
    "                # Handle time without space, e.g. \"2PM\"\n",
    "                return dt.datetime.strptime(time_str.strip(), \"%I%p\").strftime(\"%H:%M\")\n",
    "            except ValueError:\n",
    "                return None"
   ]
  },
  {
   "cell_type": "code",
   "execution_count": 12,
   "metadata": {},
   "outputs": [
    {
     "data": {
      "text/plain": [
       "['2:30 PM ', ' 12 AM']"
      ]
     },
     "execution_count": 12,
     "metadata": {},
     "output_type": "execute_result"
    }
   ],
   "source": [
    "time_str = '2:30 PM - 12 AM' \n",
    "times = time_str.split('-')\n",
    "times"
   ]
  },
  {
   "cell_type": "code",
   "execution_count": 13,
   "metadata": {},
   "outputs": [
    {
     "data": {
      "text/plain": [
       "'14:30'"
      ]
     },
     "execution_count": 13,
     "metadata": {},
     "output_type": "execute_result"
    }
   ],
   "source": [
    "x = convert_to_24hr(times[0])\n",
    "x"
   ]
  },
  {
   "cell_type": "code",
   "execution_count": 14,
   "metadata": {},
   "outputs": [],
   "source": [
    "df.to_csv('../data/preprocessed_data.csv' , index=False)"
   ]
  },
  {
   "cell_type": "code",
   "execution_count": 15,
   "metadata": {},
   "outputs": [
    {
     "data": {
      "text/html": [
       "<div>\n",
       "<style scoped>\n",
       "    .dataframe tbody tr th:only-of-type {\n",
       "        vertical-align: middle;\n",
       "    }\n",
       "\n",
       "    .dataframe tbody tr th {\n",
       "        vertical-align: top;\n",
       "    }\n",
       "\n",
       "    .dataframe thead th {\n",
       "        text-align: right;\n",
       "    }\n",
       "</style>\n",
       "<table border=\"1\" class=\"dataframe\">\n",
       "  <thead>\n",
       "    <tr style=\"text-align: right;\">\n",
       "      <th></th>\n",
       "      <th>Name</th>\n",
       "      <th>Type of Activity</th>\n",
       "      <th>Description</th>\n",
       "      <th>Location</th>\n",
       "      <th>OpeningTimes</th>\n",
       "      <th>OpeningTime</th>\n",
       "      <th>ClosingTime</th>\n",
       "      <th>Duration</th>\n",
       "      <th>Is_Special_Schedule</th>\n",
       "    </tr>\n",
       "  </thead>\n",
       "  <tbody>\n",
       "    <tr>\n",
       "      <th>0</th>\n",
       "      <td>Al Azhar Park</td>\n",
       "      <td>Outdoor Activity</td>\n",
       "      <td>A large park with beautiful gardens and recrea...</td>\n",
       "      <td>Cairo</td>\n",
       "      <td>N/A</td>\n",
       "      <td>None</td>\n",
       "      <td>None</td>\n",
       "      <td>NaN</td>\n",
       "      <td>False</td>\n",
       "    </tr>\n",
       "    <tr>\n",
       "      <th>1</th>\n",
       "      <td>Aquarium Grotto Park</td>\n",
       "      <td>Outdoor Activity</td>\n",
       "      <td>A park featuring an aquarium and scenic views.</td>\n",
       "      <td>Zamalek, Cairo</td>\n",
       "      <td>N/A</td>\n",
       "      <td>None</td>\n",
       "      <td>None</td>\n",
       "      <td>NaN</td>\n",
       "      <td>False</td>\n",
       "    </tr>\n",
       "    <tr>\n",
       "      <th>2</th>\n",
       "      <td>Family Park</td>\n",
       "      <td>Outdoor Activity</td>\n",
       "      <td>A family-friendly park with various activities.</td>\n",
       "      <td>New Cairo</td>\n",
       "      <td>N/A</td>\n",
       "      <td>None</td>\n",
       "      <td>None</td>\n",
       "      <td>NaN</td>\n",
       "      <td>False</td>\n",
       "    </tr>\n",
       "    <tr>\n",
       "      <th>3</th>\n",
       "      <td>Nile Cruise (Felucca)</td>\n",
       "      <td>Outdoor Activity</td>\n",
       "      <td>Sail the Nile River at sunset.</td>\n",
       "      <td>Maadi, Zamalek</td>\n",
       "      <td>N/A</td>\n",
       "      <td>None</td>\n",
       "      <td>None</td>\n",
       "      <td>NaN</td>\n",
       "      <td>False</td>\n",
       "    </tr>\n",
       "    <tr>\n",
       "      <th>4</th>\n",
       "      <td>Zawya</td>\n",
       "      <td>Movie Screenings &amp; Art Performances</td>\n",
       "      <td>Art-house cinema screening alternative films a...</td>\n",
       "      <td>15 Emad El-Deen, Downtown</td>\n",
       "      <td>Check weekly schedule</td>\n",
       "      <td>None</td>\n",
       "      <td>None</td>\n",
       "      <td>NaN</td>\n",
       "      <td>True</td>\n",
       "    </tr>\n",
       "  </tbody>\n",
       "</table>\n",
       "</div>"
      ],
      "text/plain": [
       "                    Name                     Type of Activity  \\\n",
       "0          Al Azhar Park                     Outdoor Activity   \n",
       "1   Aquarium Grotto Park                     Outdoor Activity   \n",
       "2            Family Park                     Outdoor Activity   \n",
       "3  Nile Cruise (Felucca)                     Outdoor Activity   \n",
       "4                  Zawya  Movie Screenings & Art Performances   \n",
       "\n",
       "                                         Description  \\\n",
       "0  A large park with beautiful gardens and recrea...   \n",
       "1     A park featuring an aquarium and scenic views.   \n",
       "2    A family-friendly park with various activities.   \n",
       "3                     Sail the Nile River at sunset.   \n",
       "4  Art-house cinema screening alternative films a...   \n",
       "\n",
       "                    Location             OpeningTimes OpeningTime ClosingTime  \\\n",
       "0                      Cairo                    N/A          None        None   \n",
       "1             Zamalek, Cairo                    N/A          None        None   \n",
       "2                  New Cairo                    N/A          None        None   \n",
       "3             Maadi, Zamalek                    N/A          None        None   \n",
       "4  15 Emad El-Deen, Downtown  Check weekly schedule          None        None   \n",
       "\n",
       "   Duration  Is_Special_Schedule  \n",
       "0       NaN                False  \n",
       "1       NaN                False  \n",
       "2       NaN                False  \n",
       "3       NaN                False  \n",
       "4       NaN                 True  "
      ]
     },
     "execution_count": 15,
     "metadata": {},
     "output_type": "execute_result"
    }
   ],
   "source": [
    "df.head()"
   ]
  },
  {
   "cell_type": "code",
   "execution_count": 16,
   "metadata": {},
   "outputs": [
    {
     "data": {
      "text/plain": [
       "Is_Special_Schedule\n",
       "False    61\n",
       "True      4\n",
       "Name: count, dtype: int64"
      ]
     },
     "execution_count": 16,
     "metadata": {},
     "output_type": "execute_result"
    }
   ],
   "source": [
    "df['Is_Special_Schedule'].value_counts()"
   ]
  },
  {
   "cell_type": "code",
   "execution_count": 17,
   "metadata": {},
   "outputs": [
    {
     "data": {
      "text/plain": [
       "OpeningTimes\n",
       "N/A                                                     19\n",
       "10 AM - 11 PM                                            7\n",
       "4 PM - 12 AM                                             3\n",
       "3 PM - 1 AM                                              2\n",
       "10 AM - 12 AM                                            2\n",
       "12 PM - 12 AM                                            2\n",
       "3 PM - 12 AM                                             2\n",
       "Saturdays, Mondays & Wednesdays, 7:30 PM - 9:00 PM       1\n",
       "2:30 PM - 12 AM                                          1\n",
       "11 AM - 5 PM (Sun-Wed)                                   1\n",
       "12 PM - 9 PM                                             1\n",
       "12 PM - 10 PM                                            1\n",
       "12 PM - 8 PM                                             1\n",
       "Check schedule on Facebook                               1\n",
       "3 PM - 3 AM                                              1\n",
       "11:00 AM - 11:00 PM                                      1\n",
       "Check weekly schedule                                    1\n",
       "11 AM - 1 AM                                             1\n",
       "5 PM - 12:30 AM                                          1\n",
       "12 PM - 2 AM                                             1\n",
       "12 PM - 1:30 AM                                          1\n",
       "1 PM - 12 AM                                             1\n",
       "11:30 AM - 11:30 PM                                      1\n",
       "11 AM - 12 AM                                            1\n",
       "11 AM - 1:30 AM                                          1\n",
       "1 PM - 1 AM                                              1\n",
       "8 PM - 2 AM                                              1\n",
       "Karaoke on Mondays at 8 PM                               1\n",
       "10 AM - 12 PM (booking required)                         1\n",
       "Daily except Tuesdays, 9:00 AM - 5:00 PM                 1\n",
       "11:00 AM - late night                                    1\n",
       "8:00 AM - midnight                                       1\n",
       "1:00 PM - 11:00 PM                                       1\n",
       "Name: count, dtype: int64"
      ]
     },
     "execution_count": 17,
     "metadata": {},
     "output_type": "execute_result"
    }
   ],
   "source": [
    "df['OpeningTimes'].value_counts()"
   ]
  },
  {
   "cell_type": "code",
   "execution_count": 18,
   "metadata": {},
   "outputs": [],
   "source": [
    "import pandas as pd\n",
    "df2 = pd.read_csv('../data/preprocessed_data - preprocessed_data.csv')"
   ]
  },
  {
   "cell_type": "code",
   "execution_count": 19,
   "metadata": {},
   "outputs": [
    {
     "data": {
      "text/html": [
       "<div>\n",
       "<style scoped>\n",
       "    .dataframe tbody tr th:only-of-type {\n",
       "        vertical-align: middle;\n",
       "    }\n",
       "\n",
       "    .dataframe tbody tr th {\n",
       "        vertical-align: top;\n",
       "    }\n",
       "\n",
       "    .dataframe thead th {\n",
       "        text-align: right;\n",
       "    }\n",
       "</style>\n",
       "<table border=\"1\" class=\"dataframe\">\n",
       "  <thead>\n",
       "    <tr style=\"text-align: right;\">\n",
       "      <th></th>\n",
       "      <th>Name</th>\n",
       "      <th>Type of Activity</th>\n",
       "      <th>Description</th>\n",
       "      <th>Location</th>\n",
       "      <th>OpeningTimes</th>\n",
       "      <th>OpeningTime</th>\n",
       "      <th>ClosingTime</th>\n",
       "      <th>Duration</th>\n",
       "      <th>Is_Special_Schedule</th>\n",
       "      <th>Fee_Adult_EGP</th>\n",
       "      <th>Fee_kid_EGP</th>\n",
       "    </tr>\n",
       "  </thead>\n",
       "  <tbody>\n",
       "    <tr>\n",
       "      <th>0</th>\n",
       "      <td>Al Azhar Park</td>\n",
       "      <td>Outdoor Activity</td>\n",
       "      <td>A large park with beautiful gardens and recrea...</td>\n",
       "      <td>Cairo</td>\n",
       "      <td>9:00 AM -10:00 PM</td>\n",
       "      <td>9:00</td>\n",
       "      <td>22:00</td>\n",
       "      <td>13.0</td>\n",
       "      <td>False</td>\n",
       "      <td>10.0</td>\n",
       "      <td>NaN</td>\n",
       "    </tr>\n",
       "    <tr>\n",
       "      <th>1</th>\n",
       "      <td>Aquarium Grotto Park</td>\n",
       "      <td>Outdoor Activity</td>\n",
       "      <td>A park featuring an aquarium and scenic views.</td>\n",
       "      <td>Zamalek, Cairo</td>\n",
       "      <td>9:00 AM - 5:30 PM</td>\n",
       "      <td>9:00</td>\n",
       "      <td>17:30</td>\n",
       "      <td>8.5</td>\n",
       "      <td>False</td>\n",
       "      <td>20.0</td>\n",
       "      <td>NaN</td>\n",
       "    </tr>\n",
       "    <tr>\n",
       "      <th>2</th>\n",
       "      <td>Family Park</td>\n",
       "      <td>Outdoor Activity</td>\n",
       "      <td>A family-friendly park with various activities.</td>\n",
       "      <td>New Cairo</td>\n",
       "      <td>9:00 AM -12:00 AM</td>\n",
       "      <td>9:00</td>\n",
       "      <td>0:00</td>\n",
       "      <td>21.0</td>\n",
       "      <td>False</td>\n",
       "      <td>160.0</td>\n",
       "      <td>460.0</td>\n",
       "    </tr>\n",
       "    <tr>\n",
       "      <th>3</th>\n",
       "      <td>Nile Cruise (Felucca)</td>\n",
       "      <td>Outdoor Activity</td>\n",
       "      <td>Sail the Nile River at sunset.</td>\n",
       "      <td>Maadi, Zamalek</td>\n",
       "      <td>9:00 AM -12:00 AM</td>\n",
       "      <td>9:00</td>\n",
       "      <td>0:00</td>\n",
       "      <td>21.0</td>\n",
       "      <td>False</td>\n",
       "      <td>24500.0</td>\n",
       "      <td>NaN</td>\n",
       "    </tr>\n",
       "    <tr>\n",
       "      <th>4</th>\n",
       "      <td>Zawya</td>\n",
       "      <td>Movie Screenings &amp; Art Performances</td>\n",
       "      <td>Art-house cinema screening alternative films a...</td>\n",
       "      <td>15 Emad El-Deen, Downtown</td>\n",
       "      <td>Check weekly schedule</td>\n",
       "      <td>NaN</td>\n",
       "      <td>NaN</td>\n",
       "      <td>NaN</td>\n",
       "      <td>True</td>\n",
       "      <td>100.0</td>\n",
       "      <td>NaN</td>\n",
       "    </tr>\n",
       "  </tbody>\n",
       "</table>\n",
       "</div>"
      ],
      "text/plain": [
       "                    Name                     Type of Activity  \\\n",
       "0          Al Azhar Park                     Outdoor Activity   \n",
       "1   Aquarium Grotto Park                     Outdoor Activity   \n",
       "2            Family Park                     Outdoor Activity   \n",
       "3  Nile Cruise (Felucca)                     Outdoor Activity   \n",
       "4                  Zawya  Movie Screenings & Art Performances   \n",
       "\n",
       "                                         Description  \\\n",
       "0  A large park with beautiful gardens and recrea...   \n",
       "1     A park featuring an aquarium and scenic views.   \n",
       "2    A family-friendly park with various activities.   \n",
       "3                     Sail the Nile River at sunset.   \n",
       "4  Art-house cinema screening alternative films a...   \n",
       "\n",
       "                    Location           OpeningTimes OpeningTime ClosingTime  \\\n",
       "0                      Cairo    9:00 AM -10:00 PM          9:00       22:00   \n",
       "1             Zamalek, Cairo     9:00 AM - 5:30 PM         9:00       17:30   \n",
       "2                  New Cairo      9:00 AM -12:00 AM        9:00        0:00   \n",
       "3             Maadi, Zamalek      9:00 AM -12:00 AM        9:00        0:00   \n",
       "4  15 Emad El-Deen, Downtown  Check weekly schedule         NaN         NaN   \n",
       "\n",
       "   Duration  Is_Special_Schedule  Fee_Adult_EGP  Fee_kid_EGP  \n",
       "0      13.0                False           10.0          NaN  \n",
       "1       8.5                False           20.0          NaN  \n",
       "2      21.0                False          160.0        460.0  \n",
       "3      21.0                False        24500.0          NaN  \n",
       "4       NaN                 True          100.0          NaN  "
      ]
     },
     "execution_count": 19,
     "metadata": {},
     "output_type": "execute_result"
    }
   ],
   "source": [
    "df2.head()"
   ]
  },
  {
   "cell_type": "code",
   "execution_count": 21,
   "metadata": {},
   "outputs": [
    {
     "data": {
      "text/plain": [
       "np.int64(17)"
      ]
     },
     "execution_count": 21,
     "metadata": {},
     "output_type": "execute_result"
    }
   ],
   "source": [
    "df2['Fee_Adult_EGP'].isnull().sum()"
   ]
  },
  {
   "cell_type": "code",
   "execution_count": 22,
   "metadata": {},
   "outputs": [
    {
     "data": {
      "text/plain": [
       "(65, 11)"
      ]
     },
     "execution_count": 22,
     "metadata": {},
     "output_type": "execute_result"
    }
   ],
   "source": [
    "df2.shape"
   ]
  },
  {
   "cell_type": "code",
   "execution_count": 24,
   "metadata": {},
   "outputs": [
    {
     "data": {
      "text/plain": [
       "Name                    0\n",
       "Type of Activity        0\n",
       "Description             0\n",
       "Location                0\n",
       "OpeningTimes            0\n",
       "OpeningTime             3\n",
       "ClosingTime             3\n",
       "Duration                4\n",
       "Is_Special_Schedule     0\n",
       "Fee_Adult_EGP          17\n",
       "Fee_kid_EGP            26\n",
       "dtype: int64"
      ]
     },
     "execution_count": 24,
     "metadata": {},
     "output_type": "execute_result"
    }
   ],
   "source": [
    "df2.isnull().sum()"
   ]
  },
  {
   "cell_type": "code",
   "execution_count": 28,
   "metadata": {},
   "outputs": [
    {
     "data": {
      "text/plain": [
       "Location\n",
       "Cairo                                                            5\n",
       "Cairo Festival City Mall                                         2\n",
       "Giza, Cairo                                                      2\n",
       "New Cairo                                                        1\n",
       "Maadi, Zamalek                                                   1\n",
       "12 Mohamed Anis St., Zamalek                                     1\n",
       "15 Emad El-Deen, Downtown                                        1\n",
       "Islamic Cairo                                                    1\n",
       "Mall of Egypt, 6th of October City                               1\n",
       "Obour City                                                       1\n",
       "Zamalek, Cairo                                                   1\n",
       "The Field Maadi Sports Community Club                            1\n",
       "Point 90 Mall, New Cairo & Avenue Mall, Obour City               1\n",
       "Cairo Festival City, 5th Settlement                              1\n",
       "Inside Mazar Mall, 6th of October City                           1\n",
       "Gate 1, Al-Hezam El-Akhdar, 6th of October                       1\n",
       "Dandy Mega Mall, 6th of October City                             1\n",
       "MOVING TO A NEW LOCATION                                         1\n",
       "New Cairo Club, 5th Settlement                                   1\n",
       "Various locations in Maadi                                       1\n",
       "54 Mohi El-Din Abo Al Ezz street, Dokki                          1\n",
       "Al Guezira Plaza, Sheikh Zayed                                   1\n",
       "104 Omar Ebn El-Khattab Street, Heliopolis                       1\n",
       "34 Street 206, Degla – Maadi                                     1\n",
       "56 Al Bostan St, Sheikh Zayed                                    1\n",
       "B311, 90th Street, New Cairo                                     1\n",
       "3 Skies Plaza, 5th Settlement                                    1\n",
       "5 Abou El-Feda St., Zamalek                                      1\n",
       "4, 216 Street, Victory Square – Maadi                            1\n",
       "City Square Mall, Al Rehab                                       1\n",
       "258 A, Anas Ebn Malek Street – New Cairo                         1\n",
       "Maadi City Center, Cairo Festival City Mall, Mall of Egypt       1\n",
       "Americana Plaza – Sheikh Zayed                                   1\n",
       "Dandy Mega Mall – Cairo/Alex Desert Road                         1\n",
       "Mirage Mall – Suez Road & Mall of Arabia, 6th of October City    1\n",
       "Dandy Mega Mall – Cairo/Alex Desert Road, 6th of October City    1\n",
       "Salah Salem Street, Heliopolis                                   1\n",
       "3 Skies Plaza, 5th Settlement – New Cairo                        1\n",
       "46 El-Nozha, Heliopolis                                          1\n",
       "Street no. 9 in front of Pizza Hut – Maadi                       1\n",
       "5th Settlement, Concord Plaza Mall                               1\n",
       "10 Etehaad Al Mohamin St., Garden City                           1\n",
       "1 Palestine St., El Bandar Mall – Maadi                          1\n",
       "8 Sesostris street, Heliopolis                                   1\n",
       "Various locations                                                1\n",
       "Palm Strip Mall, 6th of October City                             1\n",
       "Obour City, Cairo                                                1\n",
       "Maryouteya Road, Giza                                            1\n",
       "Cairo Festival City, Cairo                                       1\n",
       "30 km southwest of Cairo                                         1\n",
       "Abu Sir, Cairo                                                   1\n",
       "Porto Cairo, Cairo                                               1\n",
       "Various locations in Cairo                                       1\n",
       "El-Gamaleya, Cairo                                               1\n",
       "Mall of Arabia, Cairo                                            1\n",
       "Heliopolis, Cairo                                                1\n",
       "Nile River, Cairo                                                1\n",
       "City Stars Mall, Cairo                                           1\n",
       "Villa Pax, Imbaba, Cairo                                         1\n",
       "Name: count, dtype: int64"
      ]
     },
     "execution_count": 28,
     "metadata": {},
     "output_type": "execute_result"
    }
   ],
   "source": [
    "df2['Location'].value_counts()"
   ]
  },
  {
   "cell_type": "code",
   "execution_count": null,
   "metadata": {},
   "outputs": [],
   "source": []
  }
 ],
 "metadata": {
  "kernelspec": {
   "display_name": ".yalla_bena",
   "language": "python",
   "name": "python3"
  },
  "language_info": {
   "codemirror_mode": {
    "name": "ipython",
    "version": 3
   },
   "file_extension": ".py",
   "mimetype": "text/x-python",
   "name": "python",
   "nbconvert_exporter": "python",
   "pygments_lexer": "ipython3",
   "version": "3.12.2"
  }
 },
 "nbformat": 4,
 "nbformat_minor": 2
}
